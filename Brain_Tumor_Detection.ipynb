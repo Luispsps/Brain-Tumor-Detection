{
  "cells": [
    {
      "cell_type": "markdown",
      "metadata": {
        "id": "view-in-github",
        "colab_type": "text"
      },
      "source": [
        "<a href=\"https://colab.research.google.com/github/Luispsps/Brain-Tumor-Detection/blob/main/Brain_Tumor_Detection.ipynb\" target=\"_parent\"><img src=\"https://colab.research.google.com/assets/colab-badge.svg\" alt=\"Open In Colab\"/></a>"
      ]
    },
    {
      "cell_type": "markdown",
      "metadata": {
        "id": "qAgxmYE4uGMW"
      },
      "source": [
        "# Brain Tumor Detection!\n",
        "With this project I hope to be able to create a Machine learning model capable of detecting different tumors throuhg MRI Scan of our brain! This will not only be a great practice to using tensorflow but as well be able to have a contirbution to developing models capable of doing such work!\n",
        "\n",
        "This is the data I used to complete this project: https://www.kaggle.com/datasets/rm1000/brain-tumor-mri-scans?select=glioma"
      ]
    },
    {
      "cell_type": "code",
      "execution_count": null,
      "metadata": {
        "id": "eXYXJ_2MvvDu"
      },
      "outputs": [],
      "source": [
        "!unzip archive.zip"
      ]
    },
    {
      "cell_type": "markdown",
      "metadata": {
        "id": "fICSsWBc6o54"
      },
      "source": [
        "# Organizing and Curating Dataset"
      ]
    },
    {
      "cell_type": "code",
      "execution_count": 2,
      "metadata": {
        "colab": {
          "base_uri": "https://localhost:8080/"
        },
        "id": "XZdOgkEozoIw",
        "outputId": "88e7dada-53a8-414c-d628-cea59b5cacb7"
      },
      "outputs": [
        {
          "output_type": "stream",
          "name": "stdout",
          "text": [
            "1621\n",
            "2000\n",
            "1645\n",
            "1757\n"
          ]
        }
      ],
      "source": [
        "import os\n",
        "\n",
        "def imageCounter(folder_path):\n",
        "\n",
        "  image_extensions = {\".png\", \".jpg\", \".jpeg\", \".gif\", \".bmp\"}\n",
        "\n",
        "  image_count = sum(1 for file in os.listdir(folder_path) if any(file.lower().endswith(ext) for ext in image_extensions))\n",
        "\n",
        "  return image_count\n",
        "\n",
        "print(imageCounter(\"/content/glioma\"))\n",
        "print(imageCounter(\"/content/healthy\"))\n",
        "print(imageCounter(\"/content/meningioma\"))\n",
        "print(imageCounter(\"/content/pituitary\"))\n"
      ]
    },
    {
      "cell_type": "code",
      "execution_count": 3,
      "metadata": {
        "id": "1lAQAbZh2-jT"
      },
      "outputs": [],
      "source": [
        "parent_directory = \"train\"\n",
        "child_directories = [\"healthy\", \"glioma\", \"meningioma\", \"pituitary\"]\n",
        "\n",
        "for child in child_directories:\n",
        "    child_path = os.path.join(parent_directory, child)\n",
        "    os.makedirs(child_path, exist_ok=True)"
      ]
    },
    {
      "cell_type": "code",
      "execution_count": 4,
      "metadata": {
        "id": "SLtorMT06hs8"
      },
      "outputs": [],
      "source": [
        "parent_directory = \"test\"\n",
        "child_directories = [\"healthy\", \"glioma\", \"meningioma\", \"pituitary\"]\n",
        "\n",
        "for child in child_directories:\n",
        "    child_path = os.path.join(parent_directory, child)\n",
        "    os.makedirs(child_path, exist_ok=True)"
      ]
    },
    {
      "cell_type": "markdown",
      "metadata": {
        "id": "oAEqe3tA94vP"
      },
      "source": [
        "# Dividing images with testing and training sets!"
      ]
    },
    {
      "cell_type": "code",
      "execution_count": 5,
      "metadata": {
        "colab": {
          "base_uri": "https://localhost:8080/"
        },
        "id": "Iy0Rz-1d-CCt",
        "outputId": "0cde7d68-bfea-45eb-e59d-b75523bcba6e"
      },
      "outputs": [
        {
          "output_type": "execute_result",
          "data": {
            "text/plain": [
              "810.5"
            ]
          },
          "metadata": {},
          "execution_count": 5
        }
      ],
      "source": [
        "1621/2"
      ]
    },
    {
      "cell_type": "code",
      "execution_count": 6,
      "metadata": {
        "id": "LBwcqPtL606I"
      },
      "outputs": [],
      "source": [
        "import shutil\n",
        "\n",
        "source_folder = \"/content/glioma\"\n",
        "destination_folder = \"/content/test/glioma\"\n",
        "\n",
        "files = [file for file in os.listdir(source_folder) if file.lower().endswith(\".jpg\")]\n",
        "\n",
        "num_files_to_transfer = len(files) - 810\n",
        "\n",
        "for file in files[:num_files_to_transfer]:\n",
        "  source_path = os.path.join(source_folder, file)\n",
        "  destination_path = os.path.join(destination_folder, file)\n",
        "  shutil.move(source_path, destination_path)"
      ]
    },
    {
      "cell_type": "code",
      "execution_count": 7,
      "metadata": {
        "id": "7swtR2N28VYn"
      },
      "outputs": [],
      "source": [
        "source_folder = \"/content/glioma\"\n",
        "destination_folder = \"/content/train/glioma\"\n",
        "\n",
        "files = [file for file in os.listdir(source_folder) if file.lower().endswith(\".jpg\")]\n",
        "\n",
        "num_files_to_transfer = len(files)\n",
        "\n",
        "for file in files[:num_files_to_transfer]:\n",
        "  source_path = os.path.join(source_folder, file)\n",
        "  destination_path = os.path.join(destination_folder, file)\n",
        "  shutil.move(source_path, destination_path)"
      ]
    },
    {
      "cell_type": "code",
      "execution_count": 8,
      "metadata": {
        "colab": {
          "base_uri": "https://localhost:8080/"
        },
        "id": "vzEAQL7H-HCV",
        "outputId": "bcefcb19-c722-4036-cf11-119f30165bf6"
      },
      "outputs": [
        {
          "output_type": "execute_result",
          "data": {
            "text/plain": [
              "1000.0"
            ]
          },
          "metadata": {},
          "execution_count": 8
        }
      ],
      "source": [
        "2000/2"
      ]
    },
    {
      "cell_type": "code",
      "execution_count": 9,
      "metadata": {
        "id": "hx1pUlS_-G5i"
      },
      "outputs": [],
      "source": [
        "source_folder = \"/content/healthy\"\n",
        "destination_folder = \"/content/test/healthy\"\n",
        "\n",
        "files = [file for file in os.listdir(source_folder) if file.lower().endswith(\".jpg\")]\n",
        "\n",
        "num_files_to_transfer = len(files) - 1000\n",
        "\n",
        "for file in files[:num_files_to_transfer]:\n",
        "  source_path = os.path.join(source_folder, file)\n",
        "  destination_path = os.path.join(destination_folder, file)\n",
        "  shutil.move(source_path, destination_path)"
      ]
    },
    {
      "cell_type": "code",
      "execution_count": 10,
      "metadata": {
        "id": "jfJOnBqp-GwD"
      },
      "outputs": [],
      "source": [
        "source_folder = \"/content/healthy\"\n",
        "destination_folder = \"/content/train/healthy\"\n",
        "\n",
        "files = [file for file in os.listdir(source_folder) if file.lower().endswith(\".jpg\")]\n",
        "\n",
        "num_files_to_transfer = len(files)\n",
        "\n",
        "for file in files[:num_files_to_transfer]:\n",
        "  source_path = os.path.join(source_folder, file)\n",
        "  destination_path = os.path.join(destination_folder, file)\n",
        "  shutil.move(source_path, destination_path)"
      ]
    },
    {
      "cell_type": "code",
      "execution_count": 11,
      "metadata": {
        "colab": {
          "base_uri": "https://localhost:8080/"
        },
        "id": "2qeJXD7W-xFB",
        "outputId": "195bacdf-4c74-4491-b8f3-9d6332755e33"
      },
      "outputs": [
        {
          "output_type": "execute_result",
          "data": {
            "text/plain": [
              "822.5"
            ]
          },
          "metadata": {},
          "execution_count": 11
        }
      ],
      "source": [
        "1645/2"
      ]
    },
    {
      "cell_type": "code",
      "source": [
        "from PIL import Image\n",
        "\n",
        "with Image.open(\"/content/test/glioma/0000.jpg\") as img:\n",
        "    width, height = img.size\n",
        "\n",
        "print(\"Width:\", width)\n",
        "print(\"Height:\", height)"
      ],
      "metadata": {
        "colab": {
          "base_uri": "https://localhost:8080/"
        },
        "id": "DnzyPacZqv7n",
        "outputId": "e663aa03-85f6-477f-c161-fc7abcd72160"
      },
      "execution_count": 12,
      "outputs": [
        {
          "output_type": "stream",
          "name": "stdout",
          "text": [
            "Width: 512\n",
            "Height: 512\n"
          ]
        }
      ]
    },
    {
      "cell_type": "code",
      "execution_count": 13,
      "metadata": {
        "id": "f4lIBjA--w8x"
      },
      "outputs": [],
      "source": [
        "source_folder = \"/content/meningioma\"\n",
        "destination_folder = \"/content/test/meningioma\"\n",
        "\n",
        "files = [file for file in os.listdir(source_folder) if file.lower().endswith(\".jpg\")]\n",
        "\n",
        "num_files_to_transfer = len(files) - 822\n",
        "\n",
        "for file in files[:num_files_to_transfer]:\n",
        "  source_path = os.path.join(source_folder, file)\n",
        "  destination_path = os.path.join(destination_folder, file)\n",
        "  shutil.move(source_path, destination_path)"
      ]
    },
    {
      "cell_type": "code",
      "execution_count": 14,
      "metadata": {
        "id": "oaFuARGt_EW3"
      },
      "outputs": [],
      "source": [
        "source_folder = \"/content/meningioma\"\n",
        "destination_folder = \"/content/train/meningioma\"\n",
        "\n",
        "files = [file for file in os.listdir(source_folder) if file.lower().endswith(\".jpg\")]\n",
        "\n",
        "num_files_to_transfer = len(files)\n",
        "\n",
        "for file in files[:num_files_to_transfer]:\n",
        "  source_path = os.path.join(source_folder, file)\n",
        "  destination_path = os.path.join(destination_folder, file)\n",
        "  shutil.move(source_path, destination_path)"
      ]
    },
    {
      "cell_type": "code",
      "execution_count": 15,
      "metadata": {
        "colab": {
          "base_uri": "https://localhost:8080/"
        },
        "id": "xzBCo2Rq-woH",
        "outputId": "60636a29-e8bf-46fe-8102-de2b566a9d1b"
      },
      "outputs": [
        {
          "output_type": "execute_result",
          "data": {
            "text/plain": [
              "878.5"
            ]
          },
          "metadata": {},
          "execution_count": 15
        }
      ],
      "source": [
        "1757/2"
      ]
    },
    {
      "cell_type": "code",
      "execution_count": 16,
      "metadata": {
        "id": "4GFHUNpx_elU"
      },
      "outputs": [],
      "source": [
        "source_folder = \"/content/pituitary\"\n",
        "destination_folder = \"/content/test/pituitary\"\n",
        "\n",
        "files = [file for file in os.listdir(source_folder) if file.lower().endswith(\".jpg\")]\n",
        "\n",
        "num_files_to_transfer = len(files) - 878\n",
        "\n",
        "for file in files[:num_files_to_transfer]:\n",
        "  source_path = os.path.join(source_folder, file)\n",
        "  destination_path = os.path.join(destination_folder, file)\n",
        "  shutil.move(source_path, destination_path)"
      ]
    },
    {
      "cell_type": "code",
      "execution_count": 17,
      "metadata": {
        "id": "0pGFQ4cY_oqq"
      },
      "outputs": [],
      "source": [
        "source_folder = \"/content/pituitary\"\n",
        "destination_folder = \"/content/train/pituitary\"\n",
        "\n",
        "files = [file for file in os.listdir(source_folder) if file.lower().endswith(\".jpg\")]\n",
        "\n",
        "num_files_to_transfer = len(files)\n",
        "\n",
        "for file in files[:num_files_to_transfer]:\n",
        "  source_path = os.path.join(source_folder, file)\n",
        "  destination_path = os.path.join(destination_folder, file)\n",
        "  shutil.move(source_path, destination_path)"
      ]
    },
    {
      "cell_type": "markdown",
      "source": [
        "# Splitting and Curating Data"
      ],
      "metadata": {
        "id": "-8DYhMB5SZKl"
      }
    },
    {
      "cell_type": "code",
      "execution_count": 35,
      "metadata": {
        "colab": {
          "base_uri": "https://localhost:8080/"
        },
        "id": "AMOZH78U_ec-",
        "outputId": "a85ae09a-59a4-47ae-f854-1a103066eafe"
      },
      "outputs": [
        {
          "output_type": "stream",
          "name": "stdout",
          "text": [
            "Found 3510 files belonging to 4 classes.\n",
            "Found 3513 files belonging to 4 classes.\n",
            "['glioma', 'healthy', 'meningioma', 'pituitary']\n",
            "['glioma', 'healthy', 'meningioma', 'pituitary']\n"
          ]
        }
      ],
      "source": [
        "from tensorflow.keras.preprocessing import image_dataset_from_directory\n",
        "\n",
        "ds_train = image_dataset_from_directory(\n",
        "    '/content/train',\n",
        "    labels='inferred',\n",
        "    label_mode='int',\n",
        "    image_size=[224, 224],\n",
        "    interpolation='nearest',\n",
        "    batch_size=32,\n",
        "    shuffle=True,\n",
        "\n",
        ")\n",
        "\n",
        "ds_test = image_dataset_from_directory(\n",
        "    '/content/test',\n",
        "    labels='inferred',\n",
        "    label_mode='int',\n",
        "    image_size=[224, 224],\n",
        "    interpolation='nearest',\n",
        "    batch_size=32,\n",
        "    shuffle = True,\n",
        "\n",
        ")\n",
        "\n",
        "class_train_names = ds_train.class_names\n",
        "class_test_names = ds_test.class_names\n",
        "print(class_train_names)\n",
        "print(class_test_names)"
      ]
    },
    {
      "cell_type": "code",
      "execution_count": 36,
      "metadata": {
        "id": "U6KpJeN5AWXI"
      },
      "outputs": [],
      "source": [
        "import numpy as np\n",
        "import tensorflow as tf\n",
        "from tensorflow.keras import layers\n",
        "\n",
        "AUTOTUNE = tf.data.AUTOTUNE\n",
        "\n",
        "ds_train = ds_train.cache().shuffle(100).prefetch(buffer_size=AUTOTUNE)\n",
        "ds_test = ds_test.cache().prefetch(buffer_size=AUTOTUNE)"
      ]
    },
    {
      "cell_type": "code",
      "source": [
        "normalization_layer = layers.Rescaling(1./255)"
      ],
      "metadata": {
        "id": "EpTt8xwxDrNU"
      },
      "execution_count": 37,
      "outputs": []
    },
    {
      "cell_type": "code",
      "source": [
        "normalized_ds = ds_train.map(lambda x, y: (normalization_layer(x), y))\n",
        "image_batch, labels_batch = next(iter(normalized_ds))\n",
        "first_image = image_batch[0]\n",
        "print(np.min(first_image), np.max(first_image))"
      ],
      "metadata": {
        "colab": {
          "base_uri": "https://localhost:8080/"
        },
        "id": "UKn1fZc_Do4u",
        "outputId": "f59c8ce2-0f82-498b-e62c-10be371f2b6a"
      },
      "execution_count": 43,
      "outputs": [
        {
          "output_type": "stream",
          "name": "stdout",
          "text": [
            "0.0 0.9843138\n"
          ]
        }
      ]
    },
    {
      "cell_type": "code",
      "execution_count": 40,
      "metadata": {
        "colab": {
          "base_uri": "https://localhost:8080/"
        },
        "id": "jTgJmV9YBL6C",
        "outputId": "f1e57b22-d436-4662-f1c8-97cd746ab68e"
      },
      "outputs": [
        {
          "output_type": "stream",
          "name": "stdout",
          "text": [
            "(32, 224, 224, 3)\n",
            "(32,)\n"
          ]
        }
      ],
      "source": [
        "for image_batch, labels_batch in ds_train:\n",
        "  print(image_batch.shape)\n",
        "  print(labels_batch.shape)\n",
        "  break"
      ]
    },
    {
      "cell_type": "markdown",
      "source": [
        "# Developing and Validating Model"
      ],
      "metadata": {
        "id": "WmgkYCDOSfmI"
      }
    },
    {
      "cell_type": "code",
      "execution_count": 46,
      "metadata": {
        "id": "qj8f3XW_AwX0"
      },
      "outputs": [],
      "source": [
        "model = tf.keras.models.Sequential([\n",
        "      tf.keras.layers.Conv2D(16, (3,3), activation='relu', input_shape=(224, 224, 3)),\n",
        "      tf.keras.layers.MaxPooling2D(2, 2),\n",
        "      tf.keras.layers.Conv2D(32, (3,3), activation='relu'),\n",
        "      tf.keras.layers.MaxPooling2D(2,2),\n",
        "      tf.keras.layers.Flatten(),\n",
        "      tf.keras.layers.Dense(32, activation='relu'),\n",
        "      tf.keras.layers.Dense(4, activation='softmax')\n",
        "  ])"
      ]
    },
    {
      "cell_type": "code",
      "execution_count": 47,
      "metadata": {
        "colab": {
          "base_uri": "https://localhost:8080/",
          "height": 391
        },
        "id": "LlBNuSHZBhZg",
        "outputId": "cb1d2c87-a8b3-4630-e187-89c1f96ccc98"
      },
      "outputs": [
        {
          "output_type": "display_data",
          "data": {
            "text/plain": [
              "\u001b[1mModel: \"sequential_4\"\u001b[0m\n"
            ],
            "text/html": [
              "<pre style=\"white-space:pre;overflow-x:auto;line-height:normal;font-family:Menlo,'DejaVu Sans Mono',consolas,'Courier New',monospace\"><span style=\"font-weight: bold\">Model: \"sequential_4\"</span>\n",
              "</pre>\n"
            ]
          },
          "metadata": {}
        },
        {
          "output_type": "display_data",
          "data": {
            "text/plain": [
              "┏━━━━━━━━━━━━━━━━━━━━━━━━━━━━━━━━━━━━━━┳━━━━━━━━━━━━━━━━━━━━━━━━━━━━━┳━━━━━━━━━━━━━━━━━┓\n",
              "┃\u001b[1m \u001b[0m\u001b[1mLayer (type)                        \u001b[0m\u001b[1m \u001b[0m┃\u001b[1m \u001b[0m\u001b[1mOutput Shape               \u001b[0m\u001b[1m \u001b[0m┃\u001b[1m \u001b[0m\u001b[1m        Param #\u001b[0m\u001b[1m \u001b[0m┃\n",
              "┡━━━━━━━━━━━━━━━━━━━━━━━━━━━━━━━━━━━━━━╇━━━━━━━━━━━━━━━━━━━━━━━━━━━━━╇━━━━━━━━━━━━━━━━━┩\n",
              "│ conv2d_8 (\u001b[38;5;33mConv2D\u001b[0m)                    │ (\u001b[38;5;45mNone\u001b[0m, \u001b[38;5;34m222\u001b[0m, \u001b[38;5;34m222\u001b[0m, \u001b[38;5;34m16\u001b[0m)        │             \u001b[38;5;34m448\u001b[0m │\n",
              "├──────────────────────────────────────┼─────────────────────────────┼─────────────────┤\n",
              "│ max_pooling2d_8 (\u001b[38;5;33mMaxPooling2D\u001b[0m)       │ (\u001b[38;5;45mNone\u001b[0m, \u001b[38;5;34m111\u001b[0m, \u001b[38;5;34m111\u001b[0m, \u001b[38;5;34m16\u001b[0m)        │               \u001b[38;5;34m0\u001b[0m │\n",
              "├──────────────────────────────────────┼─────────────────────────────┼─────────────────┤\n",
              "│ conv2d_9 (\u001b[38;5;33mConv2D\u001b[0m)                    │ (\u001b[38;5;45mNone\u001b[0m, \u001b[38;5;34m109\u001b[0m, \u001b[38;5;34m109\u001b[0m, \u001b[38;5;34m32\u001b[0m)        │           \u001b[38;5;34m4,640\u001b[0m │\n",
              "├──────────────────────────────────────┼─────────────────────────────┼─────────────────┤\n",
              "│ max_pooling2d_9 (\u001b[38;5;33mMaxPooling2D\u001b[0m)       │ (\u001b[38;5;45mNone\u001b[0m, \u001b[38;5;34m54\u001b[0m, \u001b[38;5;34m54\u001b[0m, \u001b[38;5;34m32\u001b[0m)          │               \u001b[38;5;34m0\u001b[0m │\n",
              "├──────────────────────────────────────┼─────────────────────────────┼─────────────────┤\n",
              "│ flatten_4 (\u001b[38;5;33mFlatten\u001b[0m)                  │ (\u001b[38;5;45mNone\u001b[0m, \u001b[38;5;34m93312\u001b[0m)               │               \u001b[38;5;34m0\u001b[0m │\n",
              "├──────────────────────────────────────┼─────────────────────────────┼─────────────────┤\n",
              "│ dense_12 (\u001b[38;5;33mDense\u001b[0m)                     │ (\u001b[38;5;45mNone\u001b[0m, \u001b[38;5;34m32\u001b[0m)                  │       \u001b[38;5;34m2,986,016\u001b[0m │\n",
              "├──────────────────────────────────────┼─────────────────────────────┼─────────────────┤\n",
              "│ dense_13 (\u001b[38;5;33mDense\u001b[0m)                     │ (\u001b[38;5;45mNone\u001b[0m, \u001b[38;5;34m4\u001b[0m)                   │             \u001b[38;5;34m132\u001b[0m │\n",
              "└──────────────────────────────────────┴─────────────────────────────┴─────────────────┘\n"
            ],
            "text/html": [
              "<pre style=\"white-space:pre;overflow-x:auto;line-height:normal;font-family:Menlo,'DejaVu Sans Mono',consolas,'Courier New',monospace\">┏━━━━━━━━━━━━━━━━━━━━━━━━━━━━━━━━━━━━━━┳━━━━━━━━━━━━━━━━━━━━━━━━━━━━━┳━━━━━━━━━━━━━━━━━┓\n",
              "┃<span style=\"font-weight: bold\"> Layer (type)                         </span>┃<span style=\"font-weight: bold\"> Output Shape                </span>┃<span style=\"font-weight: bold\">         Param # </span>┃\n",
              "┡━━━━━━━━━━━━━━━━━━━━━━━━━━━━━━━━━━━━━━╇━━━━━━━━━━━━━━━━━━━━━━━━━━━━━╇━━━━━━━━━━━━━━━━━┩\n",
              "│ conv2d_8 (<span style=\"color: #0087ff; text-decoration-color: #0087ff\">Conv2D</span>)                    │ (<span style=\"color: #00d7ff; text-decoration-color: #00d7ff\">None</span>, <span style=\"color: #00af00; text-decoration-color: #00af00\">222</span>, <span style=\"color: #00af00; text-decoration-color: #00af00\">222</span>, <span style=\"color: #00af00; text-decoration-color: #00af00\">16</span>)        │             <span style=\"color: #00af00; text-decoration-color: #00af00\">448</span> │\n",
              "├──────────────────────────────────────┼─────────────────────────────┼─────────────────┤\n",
              "│ max_pooling2d_8 (<span style=\"color: #0087ff; text-decoration-color: #0087ff\">MaxPooling2D</span>)       │ (<span style=\"color: #00d7ff; text-decoration-color: #00d7ff\">None</span>, <span style=\"color: #00af00; text-decoration-color: #00af00\">111</span>, <span style=\"color: #00af00; text-decoration-color: #00af00\">111</span>, <span style=\"color: #00af00; text-decoration-color: #00af00\">16</span>)        │               <span style=\"color: #00af00; text-decoration-color: #00af00\">0</span> │\n",
              "├──────────────────────────────────────┼─────────────────────────────┼─────────────────┤\n",
              "│ conv2d_9 (<span style=\"color: #0087ff; text-decoration-color: #0087ff\">Conv2D</span>)                    │ (<span style=\"color: #00d7ff; text-decoration-color: #00d7ff\">None</span>, <span style=\"color: #00af00; text-decoration-color: #00af00\">109</span>, <span style=\"color: #00af00; text-decoration-color: #00af00\">109</span>, <span style=\"color: #00af00; text-decoration-color: #00af00\">32</span>)        │           <span style=\"color: #00af00; text-decoration-color: #00af00\">4,640</span> │\n",
              "├──────────────────────────────────────┼─────────────────────────────┼─────────────────┤\n",
              "│ max_pooling2d_9 (<span style=\"color: #0087ff; text-decoration-color: #0087ff\">MaxPooling2D</span>)       │ (<span style=\"color: #00d7ff; text-decoration-color: #00d7ff\">None</span>, <span style=\"color: #00af00; text-decoration-color: #00af00\">54</span>, <span style=\"color: #00af00; text-decoration-color: #00af00\">54</span>, <span style=\"color: #00af00; text-decoration-color: #00af00\">32</span>)          │               <span style=\"color: #00af00; text-decoration-color: #00af00\">0</span> │\n",
              "├──────────────────────────────────────┼─────────────────────────────┼─────────────────┤\n",
              "│ flatten_4 (<span style=\"color: #0087ff; text-decoration-color: #0087ff\">Flatten</span>)                  │ (<span style=\"color: #00d7ff; text-decoration-color: #00d7ff\">None</span>, <span style=\"color: #00af00; text-decoration-color: #00af00\">93312</span>)               │               <span style=\"color: #00af00; text-decoration-color: #00af00\">0</span> │\n",
              "├──────────────────────────────────────┼─────────────────────────────┼─────────────────┤\n",
              "│ dense_12 (<span style=\"color: #0087ff; text-decoration-color: #0087ff\">Dense</span>)                     │ (<span style=\"color: #00d7ff; text-decoration-color: #00d7ff\">None</span>, <span style=\"color: #00af00; text-decoration-color: #00af00\">32</span>)                  │       <span style=\"color: #00af00; text-decoration-color: #00af00\">2,986,016</span> │\n",
              "├──────────────────────────────────────┼─────────────────────────────┼─────────────────┤\n",
              "│ dense_13 (<span style=\"color: #0087ff; text-decoration-color: #0087ff\">Dense</span>)                     │ (<span style=\"color: #00d7ff; text-decoration-color: #00d7ff\">None</span>, <span style=\"color: #00af00; text-decoration-color: #00af00\">4</span>)                   │             <span style=\"color: #00af00; text-decoration-color: #00af00\">132</span> │\n",
              "└──────────────────────────────────────┴─────────────────────────────┴─────────────────┘\n",
              "</pre>\n"
            ]
          },
          "metadata": {}
        },
        {
          "output_type": "display_data",
          "data": {
            "text/plain": [
              "\u001b[1m Total params: \u001b[0m\u001b[38;5;34m2,991,236\u001b[0m (11.41 MB)\n"
            ],
            "text/html": [
              "<pre style=\"white-space:pre;overflow-x:auto;line-height:normal;font-family:Menlo,'DejaVu Sans Mono',consolas,'Courier New',monospace\"><span style=\"font-weight: bold\"> Total params: </span><span style=\"color: #00af00; text-decoration-color: #00af00\">2,991,236</span> (11.41 MB)\n",
              "</pre>\n"
            ]
          },
          "metadata": {}
        },
        {
          "output_type": "display_data",
          "data": {
            "text/plain": [
              "\u001b[1m Trainable params: \u001b[0m\u001b[38;5;34m2,991,236\u001b[0m (11.41 MB)\n"
            ],
            "text/html": [
              "<pre style=\"white-space:pre;overflow-x:auto;line-height:normal;font-family:Menlo,'DejaVu Sans Mono',consolas,'Courier New',monospace\"><span style=\"font-weight: bold\"> Trainable params: </span><span style=\"color: #00af00; text-decoration-color: #00af00\">2,991,236</span> (11.41 MB)\n",
              "</pre>\n"
            ]
          },
          "metadata": {}
        },
        {
          "output_type": "display_data",
          "data": {
            "text/plain": [
              "\u001b[1m Non-trainable params: \u001b[0m\u001b[38;5;34m0\u001b[0m (0.00 B)\n"
            ],
            "text/html": [
              "<pre style=\"white-space:pre;overflow-x:auto;line-height:normal;font-family:Menlo,'DejaVu Sans Mono',consolas,'Courier New',monospace\"><span style=\"font-weight: bold\"> Non-trainable params: </span><span style=\"color: #00af00; text-decoration-color: #00af00\">0</span> (0.00 B)\n",
              "</pre>\n"
            ]
          },
          "metadata": {}
        },
        {
          "output_type": "stream",
          "name": "stdout",
          "text": [
            "None\n"
          ]
        }
      ],
      "source": [
        "print(model.summary())"
      ]
    },
    {
      "cell_type": "code",
      "execution_count": 48,
      "metadata": {
        "id": "ojUxwiQqBeg1"
      },
      "outputs": [],
      "source": [
        "from tensorflow.keras.optimizers import RMSprop\n",
        "\n",
        "model.compile(optimizer='adam',\n",
        "              loss='sparse_categorical_crossentropy',\n",
        "              metrics=['accuracy'])"
      ]
    },
    {
      "cell_type": "code",
      "execution_count": 49,
      "metadata": {
        "colab": {
          "base_uri": "https://localhost:8080/"
        },
        "id": "7iMNrEkbBlYG",
        "outputId": "0cbcb9be-1153-4f2c-fbce-b9a0591ba7be"
      },
      "outputs": [
        {
          "output_type": "stream",
          "name": "stdout",
          "text": [
            "Epoch 1/10\n",
            "\u001b[1m110/110\u001b[0m \u001b[32m━━━━━━━━━━━━━━━━━━━━\u001b[0m\u001b[37m\u001b[0m \u001b[1m198s\u001b[0m 2s/step - accuracy: 0.4651 - loss: 121.4501 - val_accuracy: 0.7506 - val_loss: 0.6034\n",
            "Epoch 2/10\n",
            "\u001b[1m110/110\u001b[0m \u001b[32m━━━━━━━━━━━━━━━━━━━━\u001b[0m\u001b[37m\u001b[0m \u001b[1m183s\u001b[0m 2s/step - accuracy: 0.8402 - loss: 0.3743 - val_accuracy: 0.8668 - val_loss: 0.4247\n",
            "Epoch 3/10\n",
            "\u001b[1m110/110\u001b[0m \u001b[32m━━━━━━━━━━━━━━━━━━━━\u001b[0m\u001b[37m\u001b[0m \u001b[1m203s\u001b[0m 2s/step - accuracy: 0.9544 - loss: 0.1314 - val_accuracy: 0.8742 - val_loss: 0.5828\n",
            "Epoch 4/10\n",
            "\u001b[1m110/110\u001b[0m \u001b[32m━━━━━━━━━━━━━━━━━━━━\u001b[0m\u001b[37m\u001b[0m \u001b[1m237s\u001b[0m 2s/step - accuracy: 0.9788 - loss: 0.0887 - val_accuracy: 0.8967 - val_loss: 0.4830\n",
            "Epoch 5/10\n",
            "\u001b[1m110/110\u001b[0m \u001b[32m━━━━━━━━━━━━━━━━━━━━\u001b[0m\u001b[37m\u001b[0m \u001b[1m225s\u001b[0m 2s/step - accuracy: 0.9888 - loss: 0.0473 - val_accuracy: 0.8964 - val_loss: 0.4911\n",
            "Epoch 6/10\n",
            "\u001b[1m110/110\u001b[0m \u001b[32m━━━━━━━━━━━━━━━━━━━━\u001b[0m\u001b[37m\u001b[0m \u001b[1m182s\u001b[0m 2s/step - accuracy: 0.9964 - loss: 0.0205 - val_accuracy: 0.8972 - val_loss: 0.5457\n",
            "Epoch 7/10\n",
            "\u001b[1m110/110\u001b[0m \u001b[32m━━━━━━━━━━━━━━━━━━━━\u001b[0m\u001b[37m\u001b[0m \u001b[1m184s\u001b[0m 2s/step - accuracy: 0.9980 - loss: 0.0119 - val_accuracy: 0.9007 - val_loss: 0.5991\n",
            "Epoch 8/10\n",
            "\u001b[1m110/110\u001b[0m \u001b[32m━━━━━━━━━━━━━━━━━━━━\u001b[0m\u001b[37m\u001b[0m \u001b[1m182s\u001b[0m 2s/step - accuracy: 0.9998 - loss: 0.0041 - val_accuracy: 0.8989 - val_loss: 0.6984\n",
            "Epoch 9/10\n",
            "\u001b[1m110/110\u001b[0m \u001b[32m━━━━━━━━━━━━━━━━━━━━\u001b[0m\u001b[37m\u001b[0m \u001b[1m183s\u001b[0m 2s/step - accuracy: 0.9959 - loss: 0.0341 - val_accuracy: 0.8955 - val_loss: 0.6374\n",
            "Epoch 10/10\n",
            "\u001b[1m110/110\u001b[0m \u001b[32m━━━━━━━━━━━━━━━━━━━━\u001b[0m\u001b[37m\u001b[0m \u001b[1m204s\u001b[0m 2s/step - accuracy: 0.9970 - loss: 0.0153 - val_accuracy: 0.8802 - val_loss: 0.8997\n"
          ]
        }
      ],
      "source": [
        "history = model.fit(ds_train, validation_data=ds_test, epochs=10)"
      ]
    },
    {
      "cell_type": "markdown",
      "source": [
        "# Results"
      ],
      "metadata": {
        "id": "wfQIUVI3Skdf"
      }
    },
    {
      "cell_type": "code",
      "execution_count": 50,
      "metadata": {
        "colab": {
          "base_uri": "https://localhost:8080/",
          "height": 564
        },
        "id": "_YgjJvRR0h1D",
        "outputId": "1ac3de36-5b5a-430d-a414-bf27387f906f"
      },
      "outputs": [
        {
          "output_type": "display_data",
          "data": {
            "text/plain": [
              "<Figure size 1200x600 with 2 Axes>"
            ],
            "image/png": "[encoded data removed]"
          },
          "metadata": {}
        }
      ],
      "source": [
        "import matplotlib.pyplot as plt\n",
        "\n",
        "def plot_loss_acc(history):\n",
        "  acc = history.history['accuracy']\n",
        "  val_acc = history.history['val_accuracy']\n",
        "  loss = history.history['loss']\n",
        "  val_loss = history.history['val_loss']\n",
        "\n",
        "  epochs = range(len(acc))\n",
        "\n",
        "  fig, ax = plt.subplots(1,2, figsize=(12, 6))\n",
        "  ax[0].plot(epochs, acc, 'r', label='Training accuracy')\n",
        "  ax[0].plot(epochs, val_acc, 'b', label='Validation accuracy')\n",
        "  ax[0].set_title('Training and validation accuracy')\n",
        "  ax[0].set_xlabel('epochs')\n",
        "  ax[0].set_ylabel('accuracy')\n",
        "  ax[0].legend()\n",
        "\n",
        "  ax[1].plot(epochs, loss, 'r', label='Training Loss')\n",
        "  ax[1].plot(epochs, val_loss, 'b', label='Validation Loss')\n",
        "  ax[1].set_title('Training and validation loss')\n",
        "  ax[1].set_xlabel('epochs')\n",
        "  ax[1].set_ylabel('loss')\n",
        "  ax[1].legend()\n",
        "\n",
        "  plt.show()\n",
        "\n",
        "plot_loss_acc(history)"
      ]
    }
  ],
  "metadata": {
    "colab": {
      "provenance": [],
      "authorship_tag": "ABX9TyNY5vTg/uygkS368ZVvs6Oz",
      "include_colab_link": true
    },
    "kernelspec": {
      "display_name": "Python 3",
      "name": "python3"
    },
    "language_info": {
      "name": "python"
    }
  },
  "nbformat": 4,
  "nbformat_minor": 0
}